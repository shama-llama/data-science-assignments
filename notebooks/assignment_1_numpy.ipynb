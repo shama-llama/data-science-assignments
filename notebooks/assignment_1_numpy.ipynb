{
 "cells": [
  {
   "cell_type": "markdown",
   "metadata": {},
   "source": [
    "<center><img src='../assets/images/aau_logo.png' width='10%'></center>\n",
    "\n",
    "<br>\n",
    "<center><h3>Addis Ababa University\n",
    "<br>College of Natural and Computational Sciences\n",
    "<br>Department of Computer Science</h3></center>\n",
    "\n",
    "---\n",
    "<center><h1 style=\"font-weight: bold;\">CoSc 6262: Data Science</h1></center>\n",
    "<center><img src='../assets/images/numpy_logo.png' width='25%'></center>\n",
    "<br>\n",
    "<center><h2>Assignment 1: NumPy</h2> </center>\n",
    "\n",
    "---"
   ]
  },
  {
   "cell_type": "markdown",
   "metadata": {},
   "source": [
    "## Questions"
   ]
  },
  {
   "cell_type": "markdown",
   "metadata": {},
   "source": [
    "### Question 1\n",
    "\n",
    "Create a random vector of size 20 and sort it (Descending)."
   ]
  },
  {
   "cell_type": "code",
   "execution_count": 1,
   "metadata": {
    "collapsed": true
   },
   "outputs": [
    {
     "name": "stdout",
     "output_type": "stream",
     "text": [
      "\n",
      "Sorted vector (descending):\n",
      "[0.99532575 0.95972913 0.93084855 0.81890027 0.74888697 0.73490477\n",
      " 0.70480705 0.68074521 0.67999525 0.62133217 0.61994666 0.50958308\n",
      " 0.48808705 0.47454352 0.43487118 0.31633344 0.22736476 0.20851152\n",
      " 0.16701448 0.00740801]\n"
     ]
    }
   ],
   "source": [
    "import numpy as np\n",
    "\n",
    "vec = np.random.random(20)\n",
    "sorted_vec = np.sort(vec)[::-1]\n",
    "print(\"\\nSorted vector (descending):\")\n",
    "print(sorted_vec)"
   ]
  },
  {
   "cell_type": "markdown",
   "metadata": {},
   "source": [
    "### Question 2\n",
    "\n",
    "Create a 5*5 array with 6 on the border and 0 inside.\n",
    "\n",
    "> Hint: output is expected to be:  \n",
    "  \n",
    ">  [[ 6.  6.  6.  6.  6.]  \n",
    ">   [ 6.  0.  0.  0.  6.]  \n",
    ">   [ 6.  0.  0.  0.  6.]  \n",
    ">   [ 6.  0.  0.  0.  6.]  \n",
    ">   [ 6.  6.  6.  6.  6.]])  "
   ]
  },
  {
   "cell_type": "code",
   "execution_count": 2,
   "metadata": {
    "collapsed": true
   },
   "outputs": [
    {
     "name": "stdout",
     "output_type": "stream",
     "text": [
      "\n",
      "5x5 array with border 6 and inner 0:\n",
      "[[6 6 6 6 6]\n",
      " [6 0 0 0 6]\n",
      " [6 0 0 0 6]\n",
      " [6 0 0 0 6]\n",
      " [6 6 6 6 6]]\n"
     ]
    }
   ],
   "source": [
    "array_5x5 = np.full((5, 5), 6)\n",
    "array_5x5[1:-1, 1:-1] = 0\n",
    "print(\"\\n5x5 array with border 6 and inner 0:\")\n",
    "print(array_5x5)"
   ]
  },
  {
   "cell_type": "markdown",
   "metadata": {},
   "source": [
    "### Question 3\n",
    "\n",
    "Create a random 10*10 Matrix. Calculate the minimum, maximum, average value for each row and columns. "
   ]
  },
  {
   "cell_type": "code",
   "execution_count": 3,
   "metadata": {
    "collapsed": true
   },
   "outputs": [
    {
     "name": "stdout",
     "output_type": "stream",
     "text": [
      "\n",
      "10x10 Matrix:\n",
      "[[0.9983414  0.66162381 0.73922704 0.56773222 0.1513276  0.97439119\n",
      "  0.15739481 0.98938956 0.71313139 0.30288687]\n",
      " [0.11947303 0.66884755 0.3969114  0.55839437 0.1388236  0.25382975\n",
      "  0.17343571 0.33422074 0.99215925 0.10020197]\n",
      " [0.94872366 0.55405647 0.20878918 0.10147047 0.20307062 0.69454326\n",
      "  0.16007958 0.81278536 0.24054573 0.66476635]\n",
      " [0.89562815 0.94301174 0.30626658 0.71842359 0.56886379 0.70992791\n",
      "  0.85007893 0.69947437 0.74529373 0.75104342]\n",
      " [0.39661023 0.2947805  0.70955618 0.98860725 0.93248613 0.40367423\n",
      "  0.71046293 0.5655053  0.76549998 0.07409354]\n",
      " [0.8402827  0.10043739 0.22269018 0.46962174 0.41867083 0.37315251\n",
      "  0.77801649 0.98887784 0.70472467 0.20651079]\n",
      " [0.32266529 0.86460037 0.32157894 0.38038037 0.77939885 0.31749337\n",
      "  0.93400586 0.61916229 0.44347855 0.75798587]\n",
      " [0.77138905 0.83040169 0.20671573 0.42850698 0.84798211 0.42036539\n",
      "  0.02210324 0.21265284 0.03240452 0.91000911]\n",
      " [0.16067173 0.37349423 0.39363915 0.86036411 0.98856095 0.27843798\n",
      "  0.83624788 0.07402628 0.74100106 0.71283187]\n",
      " [0.95719895 0.70002891 0.79900372 0.09379523 0.35246551 0.94720519\n",
      "  0.86289472 0.15154955 0.47285565 0.2541709 ]]\n"
     ]
    }
   ],
   "source": [
    "matrix = np.random.random((10, 10))\n",
    "\n",
    "row_min = np.min(matrix, axis=1)\n",
    "row_max = np.max(matrix, axis=1)\n",
    "row_avg = np.mean(matrix, axis=1)\n",
    "\n",
    "col_min = np.min(matrix, axis=0)\n",
    "col_max = np.max(matrix, axis=0)\n",
    "col_avg = np.mean(matrix, axis=0)\n",
    "\n",
    "print(\"\\n10x10 Matrix:\")\n",
    "print(matrix)"
   ]
  },
  {
   "cell_type": "code",
   "execution_count": 4,
   "metadata": {},
   "outputs": [
    {
     "name": "stdout",
     "output_type": "stream",
     "text": [
      "\n",
      "Row statistics:\n",
      "Min: [0.1513276  0.10020197 0.10147047 0.30626658 0.07409354 0.10043739\n",
      " 0.31749337 0.02210324 0.07402628 0.09379523]\n",
      "Max: [0.9983414  0.99215925 0.94872366 0.94301174 0.98860725 0.98887784\n",
      " 0.93400586 0.91000911 0.98856095 0.95719895]\n",
      "Average: [0.62554459 0.37362974 0.45888307 0.71880122 0.58412763 0.51029851\n",
      " 0.57407498 0.46825307 0.54192752 0.55911683]\n"
     ]
    }
   ],
   "source": [
    "print(\"\\nRow statistics:\")\n",
    "print(\"Min:\", row_min)\n",
    "print(\"Max:\", row_max)\n",
    "print(\"Average:\", row_avg)"
   ]
  },
  {
   "cell_type": "code",
   "execution_count": 5,
   "metadata": {},
   "outputs": [
    {
     "name": "stdout",
     "output_type": "stream",
     "text": [
      "\n",
      "Column statistics:\n",
      "Min: [0.11947303 0.10043739 0.20671573 0.09379523 0.1388236  0.25382975\n",
      " 0.02210324 0.07402628 0.03240452 0.07409354]\n",
      "Max: [0.9983414  0.94301174 0.79900372 0.98860725 0.98856095 0.97439119\n",
      " 0.93400586 0.98938956 0.99215925 0.91000911]\n",
      "Average: [0.64109842 0.59912827 0.43043781 0.51672963 0.538165   0.53730208\n",
      " 0.54847202 0.54476441 0.58510945 0.47345007]\n"
     ]
    }
   ],
   "source": [
    "print(\"\\nColumn statistics:\")\n",
    "print(\"Min:\", col_min)\n",
    "print(\"Max:\", col_max)\n",
    "print(\"Average:\", col_avg)"
   ]
  },
  {
   "cell_type": "markdown",
   "metadata": {},
   "source": [
    "### Question 4\n",
    "\n",
    "Generate a random 8 elements vector, then build a new vector with 2 consecutive zeros interleaved between each value. \n",
    "\n",
    "> [Hint: answer is expected as: [1,0,0,3,0,0,5]]"
   ]
  },
  {
   "cell_type": "code",
   "execution_count": 6,
   "metadata": {},
   "outputs": [
    {
     "name": "stdout",
     "output_type": "stream",
     "text": [
      "\n",
      "Original vector (8 elements):\n",
      "[8 9 4 2 8 4 7 1]\n",
      "\n",
      "Modified vector with interleaved zeros:\n",
      "[8 0 0 9 0 0 4 0 0 2 0 0 8 0 0 4 0 0 7 0 0 1]\n"
     ]
    }
   ],
   "source": [
    "vec8 = np.random.randint(0, 10, size=8)\n",
    "\n",
    "# Create new list with 2 zeros between each original value\n",
    "interleaved = []\n",
    "for i, num in enumerate(vec8):\n",
    "    interleaved.append(num)\n",
    "    if i != len(vec8) - 1:\n",
    "        interleaved.extend([0, 0])\n",
    "interleaved = np.array(interleaved)\n",
    "print(\"\\nOriginal vector (8 elements):\")\n",
    "print(vec8)\n",
    "print(\"\\nModified vector with interleaved zeros:\")\n",
    "print(interleaved)"
   ]
  },
  {
   "cell_type": "markdown",
   "metadata": {},
   "source": [
    "### Question 5\n",
    "\n",
    "Generate a random 4 by 4 array and swap first 2 rows."
   ]
  },
  {
   "cell_type": "code",
   "execution_count": 7,
   "metadata": {},
   "outputs": [
    {
     "name": "stdout",
     "output_type": "stream",
     "text": [
      "\n",
      "Original 4x4 array:\n",
      "[[0.62648695 0.58943875 0.06965573 0.74291811]\n",
      " [0.76384876 0.37471073 0.68028562 0.61138205]\n",
      " [0.50276751 0.82722505 0.55340976 0.84275761]\n",
      " [0.53365456 0.61236391 0.90151753 0.73495508]]\n",
      "\n",
      "Array after swapping first two rows:\n",
      "[[0.76384876 0.37471073 0.68028562 0.61138205]\n",
      " [0.62648695 0.58943875 0.06965573 0.74291811]\n",
      " [0.50276751 0.82722505 0.55340976 0.84275761]\n",
      " [0.53365456 0.61236391 0.90151753 0.73495508]]\n"
     ]
    }
   ],
   "source": [
    "array_4x4 = np.random.random((4,4))\n",
    "swapped_array = array_4x4.copy()\n",
    "swapped_array[[0, 1]] = swapped_array[[1, 0]]\n",
    "print(\"\\nOriginal 4x4 array:\")\n",
    "print(array_4x4)\n",
    "print(\"\\nArray after swapping first two rows:\")\n",
    "print(swapped_array)"
   ]
  },
  {
   "cell_type": "markdown",
   "metadata": {},
   "source": [
    "### Question 6\n",
    "\n",
    "Considering a 20x2 matrix, extract the rows with unequal values. \n",
    "\n",
    "> (e.g. if A=[[1 2][3 3][5 6]], then the output is expected to be [[1 2][5 6]])"
   ]
  },
  {
   "cell_type": "code",
   "execution_count": 8,
   "metadata": {},
   "outputs": [
    {
     "name": "stdout",
     "output_type": "stream",
     "text": [
      "\n",
      "20x2 Matrix:\n",
      "[[5 4]\n",
      " [4 7]\n",
      " [7 5]\n",
      " [3 3]\n",
      " [3 3]\n",
      " [4 1]\n",
      " [5 9]\n",
      " [1 4]\n",
      " [8 3]\n",
      " [6 7]\n",
      " [5 3]\n",
      " [6 2]\n",
      " [4 1]\n",
      " [0 2]\n",
      " [6 8]\n",
      " [7 9]\n",
      " [2 9]\n",
      " [4 5]\n",
      " [1 6]\n",
      " [2 8]]\n",
      "\n",
      "Rows with unequal values:\n",
      "[[5 4]\n",
      " [4 7]\n",
      " [7 5]\n",
      " [4 1]\n",
      " [5 9]\n",
      " [1 4]\n",
      " [8 3]\n",
      " [6 7]\n",
      " [5 3]\n",
      " [6 2]\n",
      " [4 1]\n",
      " [0 2]\n",
      " [6 8]\n",
      " [7 9]\n",
      " [2 9]\n",
      " [4 5]\n",
      " [1 6]\n",
      " [2 8]]\n"
     ]
    }
   ],
   "source": [
    "matrix_20x2 = np.random.randint(0, 10, size=(20, 2))\n",
    "unequal_rows = matrix_20x2[matrix_20x2[:, 0] != matrix_20x2[:, 1]]\n",
    "print(\"\\n20x2 Matrix:\")\n",
    "print(matrix_20x2)\n",
    "print(\"\\nRows with unequal values:\")\n",
    "print(unequal_rows)"
   ]
  },
  {
   "cell_type": "markdown",
   "metadata": {},
   "source": [
    "### Question 7\n",
    "\n",
    "Generate an array from 1 to 50, then build and apply the function, which filters out all prime numbers in the array."
   ]
  },
  {
   "cell_type": "code",
   "execution_count": 9,
   "metadata": {
    "collapsed": true
   },
   "outputs": [
    {
     "name": "stdout",
     "output_type": "stream",
     "text": [
      "\n",
      "Array from 1 to 50:\n",
      "[ 1  2  3  4  5  6  7  8  9 10 11 12 13 14 15 16 17 18 19 20 21 22 23 24\n",
      " 25 26 27 28 29 30 31 32 33 34 35 36 37 38 39 40 41 42 43 44 45 46 47 48\n",
      " 49 50]\n",
      "\n",
      "After filtering out prime numbers:\n",
      "[1, 4, 6, 8, 9, 10, 12, 14, 15, 16, 18, 20, 21, 22, 24, 25, 26, 27, 28, 30, 32, 33, 34, 35, 36, 38, 39, 40, 42, 44, 45, 46, 48, 49, 50]\n"
     ]
    }
   ],
   "source": [
    "def is_prime(n):\n",
    "    if n < 2:\n",
    "        return False\n",
    "    for i in range(2, int(np.sqrt(n)) + 1):\n",
    "        if n % i == 0:\n",
    "            return False\n",
    "    return True\n",
    "\n",
    "arr_1_to_50 = np.arange(1, 51)\n",
    "\n",
    "# Filter out prime numbers\n",
    "non_primes = [x for x in arr_1_to_50 if not is_prime(x)]\n",
    "print(\"\\nArray from 1 to 50:\")\n",
    "print(arr_1_to_50)\n",
    "print(\"\\nAfter filtering out prime numbers:\")\n",
    "print([int(x) for x in non_primes])"
   ]
  },
  {
   "cell_type": "markdown",
   "metadata": {},
   "source": [
    "## Additional Cells"
   ]
  },
  {
   "cell_type": "markdown",
   "metadata": {},
   "source": [
    "### Broadcasting\n",
    "\n",
    "Using broadcasting to add a vector to each row of a matrix"
   ]
  },
  {
   "cell_type": "code",
   "execution_count": 10,
   "metadata": {},
   "outputs": [
    {
     "name": "stdout",
     "output_type": "stream",
     "text": [
      "\n",
      "Matrix A:\n",
      "[[4 2 2]\n",
      " [3 1 6]\n",
      " [7 5 5]\n",
      " [7 6 7]\n",
      " [6 6 6]]\n",
      "\n",
      "Vector b:\n",
      "[10 20 30]\n",
      "\n",
      "Result:\n",
      "[[14 22 32]\n",
      " [13 21 36]\n",
      " [17 25 35]\n",
      " [17 26 37]\n",
      " [16 26 36]]\n"
     ]
    }
   ],
   "source": [
    "A = np.random.randint(1, 10, (5, 3))\n",
    "b = np.array([10, 20, 30])\n",
    "result = A + b\n",
    "print(\"\\nMatrix A:\")\n",
    "print(A)\n",
    "print(\"\\nVector b:\")\n",
    "print(b)\n",
    "print(\"\\nResult:\")\n",
    "print(result)"
   ]
  },
  {
   "cell_type": "markdown",
   "metadata": {},
   "source": [
    "### Boolean indexing\n",
    "\n",
    "Boolean indexing to filter even numbers from a matrix"
   ]
  },
  {
   "cell_type": "code",
   "execution_count": 11,
   "metadata": {},
   "outputs": [
    {
     "name": "stdout",
     "output_type": "stream",
     "text": [
      "\n",
      "Original matrix:\n",
      "[[27 21  9 34]\n",
      " [43  4 45 21]\n",
      " [27 27 41 45]\n",
      " [16 12 29  7]]\n",
      "\n",
      "Even numbers extracted:\n",
      "[34  4 16 12]\n"
     ]
    }
   ],
   "source": [
    "matrix_bonus = np.random.randint(1, 50, (4, 4))\n",
    "even_mask = matrix_bonus % 2 == 0\n",
    "even_numbers = matrix_bonus[even_mask]\n",
    "print(\"\\nOriginal matrix:\")\n",
    "print(matrix_bonus)\n",
    "print(\"\\nEven numbers extracted:\")\n",
    "print(even_numbers)"
   ]
  },
  {
   "cell_type": "markdown",
   "metadata": {},
   "source": [
    "### Reshape & tile\n",
    "\n",
    "Reshape and tile an array"
   ]
  },
  {
   "cell_type": "code",
   "execution_count": 12,
   "metadata": {},
   "outputs": [
    {
     "name": "stdout",
     "output_type": "stream",
     "text": [
      "\n",
      "Original array:\n",
      "[ 0  1  2  3  4  5  6  7  8  9 10 11]\n",
      "\n",
      "Reshaped (3x4):\n",
      "[[ 0  1  2  3]\n",
      " [ 4  5  6  7]\n",
      " [ 8  9 10 11]]\n",
      "\n",
      "Tiled array (2,3 times):\n",
      "[[ 0  1  2  3  0  1  2  3  0  1  2  3]\n",
      " [ 4  5  6  7  4  5  6  7  4  5  6  7]\n",
      " [ 8  9 10 11  8  9 10 11  8  9 10 11]\n",
      " [ 0  1  2  3  0  1  2  3  0  1  2  3]\n",
      " [ 4  5  6  7  4  5  6  7  4  5  6  7]\n",
      " [ 8  9 10 11  8  9 10 11  8  9 10 11]]\n"
     ]
    }
   ],
   "source": [
    "arr = np.arange(12)\n",
    "reshaped = arr.reshape(3, 4)\n",
    "tiled = np.tile(reshaped, (2, 3))  # repeats 2 times vertically and 3 times horizontally\n",
    "print(\"\\nOriginal array:\")\n",
    "print(arr)\n",
    "print(\"\\nReshaped (3x4):\")\n",
    "print(reshaped)\n",
    "print(\"\\nTiled array (2,3 times):\")\n",
    "print(tiled)"
   ]
  },
  {
   "cell_type": "markdown",
   "metadata": {},
   "source": [
    "### Universal functions\n",
    "\n",
    "Applying universal functions (sin and cos)"
   ]
  },
  {
   "cell_type": "code",
   "execution_count": 13,
   "metadata": {},
   "outputs": [
    {
     "name": "stdout",
     "output_type": "stream",
     "text": [
      "\n",
      "Angles:\n",
      "[0.         1.57079633 3.14159265 4.71238898 6.28318531]\n",
      "\n",
      "Sin values:\n",
      "[ 0.0000000e+00  1.0000000e+00  1.2246468e-16 -1.0000000e+00\n",
      " -2.4492936e-16]\n"
     ]
    }
   ],
   "source": [
    "angles = np.linspace(0, 2 * np.pi, 5)\n",
    "sin_values = np.sin(angles)\n",
    "cos_values = np.cos(angles)\n",
    "print(\"\\nAngles:\")\n",
    "print(angles)\n",
    "print(\"\\nSin values:\")\n",
    "print(sin_values)"
   ]
  }
 ],
 "metadata": {
  "anaconda-cloud": {},
  "kernelspec": {
   "display_name": ".venv",
   "language": "python",
   "name": "python3"
  },
  "language_info": {
   "codemirror_mode": {
    "name": "ipython",
    "version": 3
   },
   "file_extension": ".py",
   "mimetype": "text/x-python",
   "name": "python",
   "nbconvert_exporter": "python",
   "pygments_lexer": "ipython3",
   "version": "3.13.5"
  }
 },
 "nbformat": 4,
 "nbformat_minor": 2
}
